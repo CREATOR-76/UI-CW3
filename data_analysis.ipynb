{
 "cells": [
  {
   "cell_type": "code",
   "execution_count": 1,
   "metadata": {},
   "outputs": [],
   "source": [
    "import pandas as pd"
   ]
  },
  {
   "cell_type": "code",
   "execution_count": 2,
   "metadata": {},
   "outputs": [],
   "source": [
    "df = pd.read_csv(\"Y-2024.csv\", index_col=False)"
   ]
  },
  {
   "cell_type": "code",
   "execution_count": 3,
   "metadata": {},
   "outputs": [
    {
     "data": {
      "text/plain": [
       "(144193, 18)"
      ]
     },
     "execution_count": 3,
     "metadata": {},
     "output_type": "execute_result"
    }
   ],
   "source": [
    "df.shape"
   ]
  },
  {
   "cell_type": "code",
   "execution_count": 4,
   "metadata": {},
   "outputs": [
    {
     "data": {
      "text/plain": [
       "Index(['@id', 'sample.samplingPoint', 'sample.samplingPoint.notation',\n",
       "       'sample.samplingPoint.label', 'sample.sampleDateTime',\n",
       "       'determinand.label', 'determinand.definition', 'determinand.notation',\n",
       "       'resultQualifier.notation', 'result',\n",
       "       'codedResultInterpretation.interpretation', 'determinand.unit.label',\n",
       "       'sample.sampledMaterialType.label', 'sample.isComplianceSample',\n",
       "       'sample.purpose.label', 'sample.samplingPoint.easting',\n",
       "       'sample.samplingPoint.northing', 'Unnamed: 17'],\n",
       "      dtype='object')"
      ]
     },
     "execution_count": 4,
     "metadata": {},
     "output_type": "execute_result"
    }
   ],
   "source": [
    "df.columns"
   ]
  },
  {
   "cell_type": "code",
   "execution_count": 6,
   "metadata": {},
   "outputs": [
    {
     "name": "stdout",
     "output_type": "stream",
     "text": [
      "<class 'pandas.core.frame.DataFrame'>\n",
      "RangeIndex: 144193 entries, 0 to 144192\n",
      "Data columns (total 18 columns):\n",
      " #   Column                                    Non-Null Count   Dtype  \n",
      "---  ------                                    --------------   -----  \n",
      " 0   @id                                       144193 non-null  object \n",
      " 1   sample.samplingPoint                      144193 non-null  object \n",
      " 2   sample.samplingPoint.notation             144193 non-null  object \n",
      " 3   sample.samplingPoint.label                144193 non-null  object \n",
      " 4   sample.sampleDateTime                     144193 non-null  object \n",
      " 5   determinand.label                         144193 non-null  object \n",
      " 6   determinand.definition                    144193 non-null  object \n",
      " 7   determinand.notation                      144193 non-null  int64  \n",
      " 8   resultQualifier.notation                  50046 non-null   object \n",
      " 9   result                                    144193 non-null  float64\n",
      " 10  codedResultInterpretation.interpretation  0 non-null       float64\n",
      " 11  determinand.unit.label                    144193 non-null  object \n",
      " 12  sample.sampledMaterialType.label          144193 non-null  object \n",
      " 13  sample.isComplianceSample                 144193 non-null  bool   \n",
      " 14  sample.purpose.label                      144193 non-null  object \n",
      " 15  sample.samplingPoint.easting              144193 non-null  int64  \n",
      " 16  sample.samplingPoint.northing             144193 non-null  int64  \n",
      " 17  Unnamed: 17                               0 non-null       float64\n",
      "dtypes: bool(1), float64(3), int64(3), object(11)\n",
      "memory usage: 18.8+ MB\n"
     ]
    }
   ],
   "source": [
    "df.info()"
   ]
  },
  {
   "cell_type": "code",
   "execution_count": 7,
   "metadata": {},
   "outputs": [
    {
     "data": {
      "text/html": [
       "<div>\n",
       "<style scoped>\n",
       "    .dataframe tbody tr th:only-of-type {\n",
       "        vertical-align: middle;\n",
       "    }\n",
       "\n",
       "    .dataframe tbody tr th {\n",
       "        vertical-align: top;\n",
       "    }\n",
       "\n",
       "    .dataframe thead th {\n",
       "        text-align: right;\n",
       "    }\n",
       "</style>\n",
       "<table border=\"1\" class=\"dataframe\">\n",
       "  <thead>\n",
       "    <tr style=\"text-align: right;\">\n",
       "      <th></th>\n",
       "      <th>@id</th>\n",
       "      <th>sample.samplingPoint</th>\n",
       "      <th>sample.samplingPoint.notation</th>\n",
       "      <th>sample.samplingPoint.label</th>\n",
       "      <th>sample.sampleDateTime</th>\n",
       "      <th>determinand.label</th>\n",
       "      <th>determinand.definition</th>\n",
       "      <th>determinand.notation</th>\n",
       "      <th>resultQualifier.notation</th>\n",
       "      <th>result</th>\n",
       "      <th>codedResultInterpretation.interpretation</th>\n",
       "      <th>determinand.unit.label</th>\n",
       "      <th>sample.sampledMaterialType.label</th>\n",
       "      <th>sample.isComplianceSample</th>\n",
       "      <th>sample.purpose.label</th>\n",
       "      <th>sample.samplingPoint.easting</th>\n",
       "      <th>sample.samplingPoint.northing</th>\n",
       "      <th>Unnamed: 17</th>\n",
       "    </tr>\n",
       "  </thead>\n",
       "  <tbody>\n",
       "    <tr>\n",
       "      <th>0</th>\n",
       "      <td>http://environment.data.gov.uk/water-quality/d...</td>\n",
       "      <td>http://environment.data.gov.uk/water-quality/i...</td>\n",
       "      <td>NE-40000385</td>\n",
       "      <td>MALHAM TARN</td>\n",
       "      <td>2024-01-31T14:08:00</td>\n",
       "      <td>Endrin</td>\n",
       "      <td>Endrin</td>\n",
       "      <td>562</td>\n",
       "      <td>&lt;</td>\n",
       "      <td>0.0001</td>\n",
       "      <td>NaN</td>\n",
       "      <td>ug/l</td>\n",
       "      <td>POND / LAKE / RESERVOIR WATER</td>\n",
       "      <td>False</td>\n",
       "      <td>ENVIRONMENTAL MONITORING STATUTORY (EU DIRECTI...</td>\n",
       "      <td>389437</td>\n",
       "      <td>466251</td>\n",
       "      <td>NaN</td>\n",
       "    </tr>\n",
       "    <tr>\n",
       "      <th>1</th>\n",
       "      <td>http://environment.data.gov.uk/water-quality/d...</td>\n",
       "      <td>http://environment.data.gov.uk/water-quality/i...</td>\n",
       "      <td>NE-40000385</td>\n",
       "      <td>MALHAM TARN</td>\n",
       "      <td>2024-01-31T14:08:00</td>\n",
       "      <td>PhenoxytcAcd</td>\n",
       "      <td>Phenoxyacetic acid :- {PAA}</td>\n",
       "      <td>6671</td>\n",
       "      <td>&lt;</td>\n",
       "      <td>0.0100</td>\n",
       "      <td>NaN</td>\n",
       "      <td>ug/l</td>\n",
       "      <td>POND / LAKE / RESERVOIR WATER</td>\n",
       "      <td>False</td>\n",
       "      <td>ENVIRONMENTAL MONITORING STATUTORY (EU DIRECTI...</td>\n",
       "      <td>389437</td>\n",
       "      <td>466251</td>\n",
       "      <td>NaN</td>\n",
       "    </tr>\n",
       "    <tr>\n",
       "      <th>2</th>\n",
       "      <td>http://environment.data.gov.uk/water-quality/d...</td>\n",
       "      <td>http://environment.data.gov.uk/water-quality/i...</td>\n",
       "      <td>NE-40000385</td>\n",
       "      <td>MALHAM TARN</td>\n",
       "      <td>2024-01-31T14:08:00</td>\n",
       "      <td>MCPB</td>\n",
       "      <td>MCPB :- {4-Chloro-2-methylphenoxybutyric acid}</td>\n",
       "      <td>3790</td>\n",
       "      <td>&lt;</td>\n",
       "      <td>0.0050</td>\n",
       "      <td>NaN</td>\n",
       "      <td>ug/l</td>\n",
       "      <td>POND / LAKE / RESERVOIR WATER</td>\n",
       "      <td>False</td>\n",
       "      <td>ENVIRONMENTAL MONITORING STATUTORY (EU DIRECTI...</td>\n",
       "      <td>389437</td>\n",
       "      <td>466251</td>\n",
       "      <td>NaN</td>\n",
       "    </tr>\n",
       "    <tr>\n",
       "      <th>3</th>\n",
       "      <td>http://environment.data.gov.uk/water-quality/d...</td>\n",
       "      <td>http://environment.data.gov.uk/water-quality/i...</td>\n",
       "      <td>NE-40000385</td>\n",
       "      <td>MALHAM TARN</td>\n",
       "      <td>2024-01-31T14:08:00</td>\n",
       "      <td>Mn- Filtered</td>\n",
       "      <td>Manganese, Dissolved</td>\n",
       "      <td>6458</td>\n",
       "      <td>&lt;</td>\n",
       "      <td>10.0000</td>\n",
       "      <td>NaN</td>\n",
       "      <td>ug/l</td>\n",
       "      <td>POND / LAKE / RESERVOIR WATER</td>\n",
       "      <td>False</td>\n",
       "      <td>ENVIRONMENTAL MONITORING STATUTORY (EU DIRECTI...</td>\n",
       "      <td>389437</td>\n",
       "      <td>466251</td>\n",
       "      <td>NaN</td>\n",
       "    </tr>\n",
       "    <tr>\n",
       "      <th>4</th>\n",
       "      <td>http://environment.data.gov.uk/water-quality/d...</td>\n",
       "      <td>http://environment.data.gov.uk/water-quality/i...</td>\n",
       "      <td>NE-40000385</td>\n",
       "      <td>MALHAM TARN</td>\n",
       "      <td>2024-01-31T14:08:00</td>\n",
       "      <td>Nitrogen - N</td>\n",
       "      <td>Nitrogen, Total as N</td>\n",
       "      <td>9686</td>\n",
       "      <td>NaN</td>\n",
       "      <td>0.5500</td>\n",
       "      <td>NaN</td>\n",
       "      <td>mg/l</td>\n",
       "      <td>POND / LAKE / RESERVOIR WATER</td>\n",
       "      <td>False</td>\n",
       "      <td>ENVIRONMENTAL MONITORING STATUTORY (EU DIRECTI...</td>\n",
       "      <td>389437</td>\n",
       "      <td>466251</td>\n",
       "      <td>NaN</td>\n",
       "    </tr>\n",
       "  </tbody>\n",
       "</table>\n",
       "</div>"
      ],
      "text/plain": [
       "                                                 @id  \\\n",
       "0  http://environment.data.gov.uk/water-quality/d...   \n",
       "1  http://environment.data.gov.uk/water-quality/d...   \n",
       "2  http://environment.data.gov.uk/water-quality/d...   \n",
       "3  http://environment.data.gov.uk/water-quality/d...   \n",
       "4  http://environment.data.gov.uk/water-quality/d...   \n",
       "\n",
       "                                sample.samplingPoint  \\\n",
       "0  http://environment.data.gov.uk/water-quality/i...   \n",
       "1  http://environment.data.gov.uk/water-quality/i...   \n",
       "2  http://environment.data.gov.uk/water-quality/i...   \n",
       "3  http://environment.data.gov.uk/water-quality/i...   \n",
       "4  http://environment.data.gov.uk/water-quality/i...   \n",
       "\n",
       "  sample.samplingPoint.notation sample.samplingPoint.label  \\\n",
       "0                   NE-40000385                MALHAM TARN   \n",
       "1                   NE-40000385                MALHAM TARN   \n",
       "2                   NE-40000385                MALHAM TARN   \n",
       "3                   NE-40000385                MALHAM TARN   \n",
       "4                   NE-40000385                MALHAM TARN   \n",
       "\n",
       "  sample.sampleDateTime determinand.label  \\\n",
       "0   2024-01-31T14:08:00            Endrin   \n",
       "1   2024-01-31T14:08:00      PhenoxytcAcd   \n",
       "2   2024-01-31T14:08:00              MCPB   \n",
       "3   2024-01-31T14:08:00      Mn- Filtered   \n",
       "4   2024-01-31T14:08:00      Nitrogen - N   \n",
       "\n",
       "                           determinand.definition  determinand.notation  \\\n",
       "0                                          Endrin                   562   \n",
       "1                     Phenoxyacetic acid :- {PAA}                  6671   \n",
       "2  MCPB :- {4-Chloro-2-methylphenoxybutyric acid}                  3790   \n",
       "3                            Manganese, Dissolved                  6458   \n",
       "4                            Nitrogen, Total as N                  9686   \n",
       "\n",
       "  resultQualifier.notation   result  codedResultInterpretation.interpretation  \\\n",
       "0                        <   0.0001                                       NaN   \n",
       "1                        <   0.0100                                       NaN   \n",
       "2                        <   0.0050                                       NaN   \n",
       "3                        <  10.0000                                       NaN   \n",
       "4                      NaN   0.5500                                       NaN   \n",
       "\n",
       "  determinand.unit.label sample.sampledMaterialType.label  \\\n",
       "0                   ug/l    POND / LAKE / RESERVOIR WATER   \n",
       "1                   ug/l    POND / LAKE / RESERVOIR WATER   \n",
       "2                   ug/l    POND / LAKE / RESERVOIR WATER   \n",
       "3                   ug/l    POND / LAKE / RESERVOIR WATER   \n",
       "4                   mg/l    POND / LAKE / RESERVOIR WATER   \n",
       "\n",
       "   sample.isComplianceSample  \\\n",
       "0                      False   \n",
       "1                      False   \n",
       "2                      False   \n",
       "3                      False   \n",
       "4                      False   \n",
       "\n",
       "                                sample.purpose.label  \\\n",
       "0  ENVIRONMENTAL MONITORING STATUTORY (EU DIRECTI...   \n",
       "1  ENVIRONMENTAL MONITORING STATUTORY (EU DIRECTI...   \n",
       "2  ENVIRONMENTAL MONITORING STATUTORY (EU DIRECTI...   \n",
       "3  ENVIRONMENTAL MONITORING STATUTORY (EU DIRECTI...   \n",
       "4  ENVIRONMENTAL MONITORING STATUTORY (EU DIRECTI...   \n",
       "\n",
       "   sample.samplingPoint.easting  sample.samplingPoint.northing  Unnamed: 17  \n",
       "0                        389437                         466251          NaN  \n",
       "1                        389437                         466251          NaN  \n",
       "2                        389437                         466251          NaN  \n",
       "3                        389437                         466251          NaN  \n",
       "4                        389437                         466251          NaN  "
      ]
     },
     "execution_count": 7,
     "metadata": {},
     "output_type": "execute_result"
    }
   ],
   "source": [
    "df.head()"
   ]
  },
  {
   "cell_type": "code",
   "execution_count": 8,
   "metadata": {},
   "outputs": [],
   "source": [
    "pd.set_option('display.max_colwidth', None)"
   ]
  },
  {
   "cell_type": "code",
   "execution_count": 9,
   "metadata": {},
   "outputs": [
    {
     "data": {
      "text/plain": [
       "0    http://environment.data.gov.uk/water-quality/data/measurement/NE-1741612-0562\n",
       "1    http://environment.data.gov.uk/water-quality/data/measurement/NE-1741612-6671\n",
       "2    http://environment.data.gov.uk/water-quality/data/measurement/NE-1741612-3790\n",
       "3    http://environment.data.gov.uk/water-quality/data/measurement/NE-1741612-6458\n",
       "4    http://environment.data.gov.uk/water-quality/data/measurement/NE-1741612-9686\n",
       "5    http://environment.data.gov.uk/water-quality/data/measurement/NE-1741612-0205\n",
       "Name: @id, dtype: object"
      ]
     },
     "execution_count": 9,
     "metadata": {},
     "output_type": "execute_result"
    }
   ],
   "source": [
    "df[['@id']].loc[:5]['@id']"
   ]
  },
  {
   "cell_type": "code",
   "execution_count": 10,
   "metadata": {},
   "outputs": [
    {
     "data": {
      "text/plain": [
       "0    http://environment.data.gov.uk/water-quality/id/sampling-point/NE-40000385\n",
       "1    http://environment.data.gov.uk/water-quality/id/sampling-point/NE-40000385\n",
       "2    http://environment.data.gov.uk/water-quality/id/sampling-point/NE-40000385\n",
       "3    http://environment.data.gov.uk/water-quality/id/sampling-point/NE-40000385\n",
       "4    http://environment.data.gov.uk/water-quality/id/sampling-point/NE-40000385\n",
       "5    http://environment.data.gov.uk/water-quality/id/sampling-point/NE-40000385\n",
       "Name: sample.samplingPoint, dtype: object"
      ]
     },
     "execution_count": 10,
     "metadata": {},
     "output_type": "execute_result"
    }
   ],
   "source": [
    "df[['sample.samplingPoint']].loc[:5]['sample.samplingPoint']"
   ]
  },
  {
   "cell_type": "code",
   "execution_count": 11,
   "metadata": {},
   "outputs": [
    {
     "data": {
      "text/plain": [
       "1375"
      ]
     },
     "execution_count": 11,
     "metadata": {},
     "output_type": "execute_result"
    }
   ],
   "source": [
    "df['sample.samplingPoint.label'].nunique()"
   ]
  },
  {
   "cell_type": "code",
   "execution_count": 12,
   "metadata": {},
   "outputs": [
    {
     "data": {
      "text/plain": [
       "541"
      ]
     },
     "execution_count": 12,
     "metadata": {},
     "output_type": "execute_result"
    }
   ],
   "source": [
    "df['determinand.label'].nunique()"
   ]
  },
  {
   "cell_type": "code",
   "execution_count": 13,
   "metadata": {},
   "outputs": [
    {
     "data": {
      "text/plain": [
       "array(['<', nan, '>'], dtype=object)"
      ]
     },
     "execution_count": 13,
     "metadata": {},
     "output_type": "execute_result"
    }
   ],
   "source": [
    "df['resultQualifier.notation'].unique()"
   ]
  },
  {
   "cell_type": "code",
   "execution_count": 14,
   "metadata": {},
   "outputs": [
    {
     "data": {
      "text/plain": [
       "resultQualifier.notation\n",
       "<    49929\n",
       ">      117\n",
       "Name: count, dtype: int64"
      ]
     },
     "execution_count": 14,
     "metadata": {},
     "output_type": "execute_result"
    }
   ],
   "source": [
    "df['resultQualifier.notation'].value_counts()"
   ]
  },
  {
   "cell_type": "code",
   "execution_count": 15,
   "metadata": {},
   "outputs": [
    {
     "data": {
      "text/plain": [
       "sample.isComplianceSample\n",
       "False    126532\n",
       "True      17661\n",
       "Name: count, dtype: int64"
      ]
     },
     "execution_count": 15,
     "metadata": {},
     "output_type": "execute_result"
    }
   ],
   "source": [
    "df['sample.isComplianceSample'].value_counts()"
   ]
  },
  {
   "cell_type": "code",
   "execution_count": 16,
   "metadata": {},
   "outputs": [
    {
     "data": {
      "text/plain": [
       "array(['ENVIRONMENTAL MONITORING STATUTORY (EU DIRECTIVES)',\n",
       "       'PLANNED INVESTIGATION (LOCAL MONITORING)',\n",
       "       'WASTE MONITORING (FORMAL SAMPLE)',\n",
       "       'UNPLANNED REACTIVE MONITORING (POLLUTION INCIDENTS)',\n",
       "       'MONITORING  (NATIONAL AGENCY POLICY)',\n",
       "       'WATER QUALITY OPERATOR SELF MONITORING COMPLIANCE DATA',\n",
       "       'MONITORING (BATHING WATER) SHORT TERM POLLUTION END',\n",
       "       'STATUTORY FAILURES (FOLLOW UPS AT NON-DESIGNATED POINTS)',\n",
       "       'WATER QUALITY UWWTD MONITORING DATA',\n",
       "       'MONITORING  (UK GOVT POLICY - NOT GQA OR RE)',\n",
       "       'UNPLANNED REACTIVE MONITORING FORMAL (POLLUTION INCIDENTS)',\n",
       "       'UNSPECIFIED AT TIME OF WIMS LOAD',\n",
       "       'MONITORING (BATHING WATER) ABNORMAL SITUATION ADDITIONAL',\n",
       "       'COMPLIANCE AUDIT (PERMIT)',\n",
       "       'OPERATING TECHNIQUES AGREEMENT (OPERATOR DATA)',\n",
       "       'PLANNED INVESTIGATION (NATIONAL AGENCY POLICY)',\n",
       "       'IPPC/IPC MONITORING (FORMAL SAMPLE)',\n",
       "       'IPPC/IPC MONITORING (AGENCY INVESTIGATION)'], dtype=object)"
      ]
     },
     "execution_count": 16,
     "metadata": {},
     "output_type": "execute_result"
    }
   ],
   "source": [
    "df['sample.purpose.label'].unique()"
   ]
  },
  {
   "cell_type": "code",
   "execution_count": 17,
   "metadata": {},
   "outputs": [
    {
     "data": {
      "text/plain": [
       "array(['POND / LAKE / RESERVOIR WATER', 'ANY WATER',\n",
       "       'ANY SOLID/SEDIMENT - UNSPECIFIED', 'GROUNDWATER',\n",
       "       'RIVER / RUNNING SURFACE WATER', 'MINEWATER', 'SEA WATER',\n",
       "       'FINAL SEWAGE EFFLUENT', 'ESTUARINE WATER', 'ANY TRADE EFFLUENT',\n",
       "       'SURFACE DRAINAGE', 'CRUDE SEWAGE',\n",
       "       'MYTILUS EDULIS - MUSSEL - MUSCLE', 'ANY SEWAGE', 'ANY LEACHATE'],\n",
       "      dtype=object)"
      ]
     },
     "execution_count": 17,
     "metadata": {},
     "output_type": "execute_result"
    }
   ],
   "source": [
    "df['sample.sampledMaterialType.label'].unique()"
   ]
  },
  {
   "cell_type": "code",
   "execution_count": 28,
   "metadata": {},
   "outputs": [
    {
     "data": {
      "text/plain": [
       "array(['Endrin', 'PhenoxytcAcd', 'MCPB', 'Mn- Filtered', 'Nitrogen - N',\n",
       "       'Na- Filtered', 'Dichlorvos', '2-Ethylphenl', 'SecButylbenz',\n",
       "       'Neburon', 'ETBE', 'Ethiofencarb', 'p-Cresol', 'Chlortoluron',\n",
       "       'Chloroxylenl', '4Phenoxbutyr', '2,4-DB', 'Chloridazon',\n",
       "       '2Chlortoluen', 'Mn BLM Bio', 'Trifluralin', 'Naphthalene',\n",
       "       'CN Free', 'o-Xylene', 'm-Cresol', 'TetClEthene', 'Heptachlor',\n",
       "       'PClBenzene', '2Phenoxyprop', 'Benazolin', 'ACENAPTHEN',\n",
       "       'Cu BLM Bio', 'DiClBenzPhWW', 'HCH Delta', '1,2,4-Trimet',\n",
       "       'Ethirimol', 'Pichloram', 'Cyanide - CN', 'o-Cresol', 'Fe- Filt',\n",
       "       'Terbutryne', 'Zn BLM Bio', 'Isodrin', 'Diazinon', '1,2,3-Trimet',\n",
       "       'StrontumFilt', 'MTBE', '22DCPropan', 'Cr Hex Filt',\n",
       "       '3Chlorophenl', 'K- Filtered', 'Ioxynil', 'Lithium Filt',\n",
       "       'Phenanthrene', '135TriMeBenz', '2,6-Xylenol', 'Isoproturon',\n",
       "       'Acrb-slphx', 'IsoPropylBen', 'Monuron', 'Dieldrin', 'DiClMe',\n",
       "       'Carbendazim', 'Pb Filtered', 'nButylbenzne', '112TCEthan',\n",
       "       'Hg Filtered', '1,2,3-TCB', 'Linuron', '2,4-D', 'Acrb-slphn',\n",
       "       'Quinoxyfen', 'Chrysene', 'Carbofuran', 'NH3 filt N',\n",
       "       'Fluoroxypyr', 'HCH Gamma', 'Endosulphan', 'Azoxystrobin',\n",
       "       'nPropylbenzn', '1,2,4-TCB', 'Al- Filtered', 'SO4dis',\n",
       "       'Chloromethan', '245-T', 'EndosulphanA', 'Bifenox', 'PYRENE',\n",
       "       '1,2-DCB', 'Acenapthylen', 'Bentazone', '1,1,1,2 -TET',\n",
       "       'c-Hept Epox', 'TertButylbnz', '1,3,5-TCB', 'BROMO-DCM',\n",
       "       'Ethenylbenzn', '4-CAA', 'Bromobenzene', 'Ind123pyrene', 'Diuron',\n",
       "       'Cypermethrin', 'Oxamyl', '1,3-DCB', \"DDE (PP')\", 'Ethylbenzene',\n",
       "       'Aclonifen', 'Dimethoate', 't-Hept Epox', 'TrCFMethan',\n",
       "       '2Chlorophenl', 'Cd Filtered', 'Bromoform', 'Trichloroeth',\n",
       "       'EndosulphanB', '3Chlorotolun', 'Imazapyr', 'MCPA', 'BrClMethan',\n",
       "       'Carbon diS', 'Alky pH 4.5', 'C - Org Filt', '4ClPhenol',\n",
       "       '25Dichlrphnl', 'ClpyrifosEt', 'Aldrin', '14Dichlrbnzn',\n",
       "       'Mecoprop', 'Carbetamide', 'Benzene', 'Bromoxynil', '1,2 -DIBROMO',\n",
       "       '24Dichloropl', 'Chloroform', 'Malathion', 'B-[a]-pyrene',\n",
       "       'Fenuron', 'c12DClEthe', '2,6-DCP', 'Dicamba', 'Ba- Filtered',\n",
       "       'Cond @ 25C', '1,1-Dichloro', '1,1,1-TCA', 'Cu Filtered',\n",
       "       'DDT (PP)', 'B-[b]-fluora', 'Dibromomethn', 't12DCEe', 'Vinyl Cl',\n",
       "       'Pendimethaln', 'N Oxid Filt', 'Mg Filtered', '245Trichlphl',\n",
       "       '2,5-Xylenol', 'Cypermeth ID', '12Dibromethn', 'FLUORENE',\n",
       "       'Dichlorprop', 'B - Filtered', '11DClEthan', 'Zn- Filtered',\n",
       "       '3,4 Xylenol', 'Toluene', 'Anthracene', 'm-p-Xylene',\n",
       "       'OrthophsFilt', '2,4,6-T', 'Ca Filtered', '12DCPa', '3,5-Xylenol',\n",
       "       'Fluoranthene', 'Permethrn-cs', 'Pentachlrphl', 'Hexachlorbnz',\n",
       "       'As-Filtered', 'Chlorothalnl', 'Cr- Filtered', 'Chloroxuran',\n",
       "       'B-[k]-fluora', '123TriClProp', 'Alachlor', '2,4-Xylenol',\n",
       "       'HxClEthane', '23Dichloropl', 'Chlordbrmthn', 'Diflurobnzrn',\n",
       "       'Simazine', 'Methomyl', 'pH', 'HEXACHLORO 1', '4 -ISO-PROPY',\n",
       "       'TAME', 'Carbaryl', 'Dibenz[ah]an', 'TriPT Cation', 'p-C-o-Cresol',\n",
       "       'Methabnzthzn', 'Asulam', 'Chlorfenvphs', 'Fenoprop',\n",
       "       'Phosphorus-P', 'B-(a)-anthra', 'B-[e]-pyrene', 'PFOS',\n",
       "       'Sulcotrione', 'Monolinuron', '1,3 -DICHLOR', '11DiClPropen',\n",
       "       'Carbon Tet', 'Metoxuron', 'HCH Alpha', 'B-[ghi]-pery', 'Atrazine',\n",
       "       'TDE (PP)', 'Fenitrothion', 'Irgarol 1051', 'Propoxur',\n",
       "       'Pb BLM Bio', 'Ni BLM Bio', '2,3-Xylenol', '1122TetClEth',\n",
       "       '12-DCA', 'Chlorobenzen', '4Cl3MePhenol', 'TriBT Cation',\n",
       "       'Triclopyr', 'MetsulfrnMyl', 'BenzButPhtha', 'Se- Filtered',\n",
       "       'Aldicarb', 'Methiocarb', '4Chlorotolun', \"DDT (OP')\",\n",
       "       'Ni- Filtered', 'Perylene', 'HCH Beta', '2,3,6-TBA', 'CHLOROPHYLL',\n",
       "       'pFoctanoate', 'Phenol', 'DDT Derived', 'Permethrn-Tr', 'HBCDD',\n",
       "       '4-nonPhenol', 'PBDE 153', 'PBDE 47', 'PBDE 100', 'PBDE 28',\n",
       "       'PBDE 99', 'PBDE 154', 'Phytoplankto', 'NATGRIDREF', 'Misc Ident',\n",
       "       'Trihalomethn', 'SiO2 Rv', 'Temp Water', 'Ammonia(N)',\n",
       "       'Clopyralid', 'Bicarb HCO3', 'O Diss %sat', 'N Oxidised',\n",
       "       'Chloride Ion', 'Nitrate-N', 'Nitrite-N', 'Fluoride - F',\n",
       "       'Orthophospht', 'Oxygen Diss', 'Hardness', 'IonicBal Dis',\n",
       "       'NO FLOW/SAMP', 'Calcium - Ca', 'Manganse-Mn', 'Iron - as Fe',\n",
       "       'Sodium - Na', 'Lead - as Pb', 'Chromium -Cr', 'Nickel - Ni',\n",
       "       'Aluminium-Al', 'Lithium - Li', 'Potassium- K', 'Copper - Cu',\n",
       "       'IonicBalance', 'Strontium-Sr', 'PAHs', 'Zinc - as Zn',\n",
       "       'Cadmium - Cd', 'Barium - Ba', 'Boron - as B', 'Magnesium-Mg',\n",
       "       'Sulphate SO4', 'V - Filtered', 'Sn- Filtered', 'Be DISS',\n",
       "       'Mo Diss', 'Co- Filtered', 'TitaniumFilt', 'Ag- Filtered',\n",
       "       'Sb DISS', 'PFDoS', 'PFoctncAcid', '4:2 FTSA', 'PFDS',\n",
       "       'PFnonncAcid', 'ADONA', 'PFdecncAcid', '5:3 FTCA', 'FBSA',\n",
       "       'PFundencAcid', 'MeFOSAA-L', 'PFUnDS', 'PFdodencAcid', 'PFBS',\n",
       "       'EtFOSAA-L', 'PFtetdncAcid', 'PFecHS', 'PFTrDA', '11Cl-PF3OUdS',\n",
       "       'N-MeFOSA', 'PFPeS', 'PFBA', 'EtFOSA', 'PFheptncAcid', 'FOSA',\n",
       "       'PFpentncAcid', 'PFMOBA', '6:2 FTSA', 'PFHxSA', 'MeFOSAA-B',\n",
       "       'PFNS', 'PFEESA', 'PFOS (B)', '3:3 FTCA', 'NFDHA', '8:2 FTSA',\n",
       "       'PFHpS', 'PFHxS-L', 'HFPO-DA', 'EtFOSAA-B', 'PFODA', 'PFhexncAcid',\n",
       "       '7:3 FTCA', 'PFMOPrA', 'PFOS (L)', '9Cl-PF3ONS', 'PFHxS-B',\n",
       "       'FONOFOS', 'Fenpropimrph', 'Metalaxyl', 'Trietazine', 'Parathion',\n",
       "       'Desmetryne', 'AzinphsEthyl', 'Triazophos', 'Coumaphos',\n",
       "       'Mevinphos', 'Iodofenphos', 'Ethion', 'ETHOFUMESATE',\n",
       "       'Propetamphos', 'Iprodione', 'Metazachlor', 'Napropamide',\n",
       "       'PirimiphsMyl', 'PirimiphsEth', 'Bupirimate', 'ATRZ-ETHYL',\n",
       "       'ClPyrphosMe', 'Carbophenthn', 'Prometryn', 'ATRZ-ISOPR',\n",
       "       'Azinphos Myl', 'Cyanazine', 'Fenthion', 'ParathionMyl',\n",
       "       'Propyzamide', 'Propazine', 'Fenchlorphos', 'Bendiocarb',\n",
       "       'Pirimicarb', 'Diclobutrazl', 'Buprofezin', 'Paclobutrazl',\n",
       "       'Fluazifopbut', 'MR Screen', 'Tralkoxydim', 'Hexaconazole',\n",
       "       'Flutriafol', 'ChlorthalDiM', 'Propiconazol', 'Sld Sus@105C',\n",
       "       'Oil & Grs Vs', 'SALinsitu', 'LCMS', '2,3,5,6-Tetr', 'Dichlobenil',\n",
       "       'Chloroprophm', 'TDE (OP)', 'TRIALLATE', '2,3,5,6-TClT',\n",
       "       'PCB Con 028', 'PCB Con 052', 'Propachlor', 'Chlrdn-cs/Z/',\n",
       "       'PCB Con 101', 'Chlordane-tr', 'HCH Epsilon', 'PCB Con 153',\n",
       "       'Tecnazene', \"DDE (OP')\", 'PCB Con 118', 'Methoxychlor',\n",
       "       'PCB Con 180', 'PCB Con 156', 'Vinclozolin', 'PCB Con 138',\n",
       "       'PCB Con 105', 'Chlormequat', 'Iodide Ion', 'Bromate',\n",
       "       'Bromide Ion', 'Turbdty in-s', 'N Dis Inorg', 'Water Depth',\n",
       "       'HTrlTW', 'NGR Easting', 'Vol Filtered', 'Nitrate Filt',\n",
       "       'NGR Northing', 'SiO2 Filt', 'Sample Depth', 'Nitrite Filt',\n",
       "       'Time Hi-Tide', 'IE Pres', 'IE Conf', 'MST Filter', 'E.coli C-MF',\n",
       "       'NH3 un-ion', 'BOD ATU', 'Beach Users', 'BWP - Ma', 'BWP - A.B.',\n",
       "       'Bathers 100m', 'BWP - O.L.', 'BWP - A.F.', 'Number Birds',\n",
       "       'SewageDebris', 'Pollutn Sign', 'No of dogs', 'TarryResidus',\n",
       "       'Samp Freq', 'PE - Calc', 'ColfmF Conf', 'StrepF C-MF',\n",
       "       'COD as O2', 'Phosphate', 'N Organic', 'N-Kjeldahl',\n",
       "       'Arsenic - As', 'TurbidityNTU', 'Mercury - Hg', 'PCBs', 'PBDE 183',\n",
       "       'ptOctylPheno', 'Aminomethylp', 'DEHP', 'Triclosan', 'PBDE 138',\n",
       "       'Glyphosate', 'PBDE 66', 'PBDE 85', 'Oil,Grse,Fat', 'HcarbonOils',\n",
       "       'SldSet @105C', 'E.coli Pres', 'NumOrganisms', 'Site Number',\n",
       "       'Wet Wt', 'SzRnWtLarge', 'SzRnWtSmall', 'SzRnWtMean',\n",
       "       'F+ColiphgPFU', 'OilTypeQual', 'Chlorine', 'Rotenone',\n",
       "       'Phenol Odour', 'Nonyl Phenol', 'Phenols MH', 'GCMS S-Vol',\n",
       "       'ICP-MS Semiq', 'Selenium -Se', 'Silver - Ag', 'Thallium -Tl',\n",
       "       'Tl diss', 'Cobalt - Co', 'Vanadium - V', 'Antimony -Sb',\n",
       "       'IsopropylEth', 'TetHydFuran', 'Propan-1-ol', 'Butan-2-ol',\n",
       "       'i-Butanol', 'Dimethxymthn', 'Methanol', '4-Methyl Pen', 'Ethanol',\n",
       "       'EthylAcetate', 'Cyclohenanon', 'Pyridine', 'Butan-1-ol',\n",
       "       'Acetone', 'MEK', 'ACRYLONITRIL', 'Propan-2-ol', 'Acetonitrile',\n",
       "       'Weather Waiv', 'DtrgtAncSyn', 'Dtrgt NncSyn', 'Dtgt Cat BAC',\n",
       "       'Permthrn c+t', 'Cyfluthrin', 'Tot Drins(4)', 'Tot HCHs ABG',\n",
       "       'Sulphur', 'HumanMito CN', 'MST Report', 'BacHF183', 'BactHumanCN',\n",
       "       'Prep: DNA', 'Human Mito', 'Beach Sign', 'BOD5DyATUFil',\n",
       "       'CHLORIDE GFC', 'ALK.0.45um', 'Colour Filt', '17beta E2',\n",
       "       '17alpha EE2', 'OestroneE1', 'Hdnss Ca', 'Flow Type', 'Alk-Gran'],\n",
       "      dtype=object)"
      ]
     },
     "execution_count": 28,
     "metadata": {},
     "output_type": "execute_result"
    }
   ],
   "source": [
    "df['determinand.label'].unique()"
   ]
  },
  {
   "cell_type": "code",
   "execution_count": 66,
   "metadata": {},
   "outputs": [],
   "source": [
    "litter_related = df.loc[df['determinand.unit.label'] == 'garber c']"
   ]
  },
  {
   "cell_type": "code",
   "execution_count": 67,
   "metadata": {},
   "outputs": [
    {
     "data": {
      "text/plain": [
       "array(['Bathing Water Profile : Macroalgae',\n",
       "       'Bathing Water Profile : Algal Bloom',\n",
       "       'Bathing Water Profile : Other Litter (incl. plastics)',\n",
       "       'Bathing Water Profile : Animal Faeces', 'Sewage debris'],\n",
       "      dtype=object)"
      ]
     },
     "execution_count": 67,
     "metadata": {},
     "output_type": "execute_result"
    }
   ],
   "source": [
    "litter_related['determinand.definition'].unique()"
   ]
  },
  {
   "cell_type": "code",
   "execution_count": 68,
   "metadata": {},
   "outputs": [
    {
     "data": {
      "text/plain": [
       "array(['BWP - Ma', 'BWP - A.B.', 'BWP - O.L.', 'BWP - A.F.',\n",
       "       'SewageDebris'], dtype=object)"
      ]
     },
     "execution_count": 68,
     "metadata": {},
     "output_type": "execute_result"
    }
   ],
   "source": [
    "litter_related['determinand.label'].unique()"
   ]
  },
  {
   "cell_type": "code",
   "execution_count": 70,
   "metadata": {},
   "outputs": [
    {
     "data": {
      "text/plain": [
       "determinand.definition\n",
       "Bathing Water Profile : Algal Bloom                      406\n",
       "Bathing Water Profile : Animal Faeces                    406\n",
       "Bathing Water Profile : Macroalgae                       406\n",
       "Bathing Water Profile : Other Litter (incl. plastics)    406\n",
       "Sewage debris                                            406\n",
       "dtype: int64"
      ]
     },
     "execution_count": 70,
     "metadata": {},
     "output_type": "execute_result"
    }
   ],
   "source": [
    "litter_related.groupby(['determinand.definition']).size()"
   ]
  },
  {
   "cell_type": "code",
   "execution_count": 82,
   "metadata": {},
   "outputs": [
    {
     "data": {
      "text/plain": [
       "(406, 18)"
      ]
     },
     "execution_count": 82,
     "metadata": {},
     "output_type": "execute_result"
    }
   ],
   "source": [
    "litter_related[litter_related['determinand.label'] == 'SewageDebris'].shape"
   ]
  },
  {
   "cell_type": "code",
   "execution_count": 93,
   "metadata": {},
   "outputs": [
    {
     "data": {
      "text/plain": [
       "sample.samplingPoint.label\n",
       "BRIDLINGTON NORTH (08000)                   105\n",
       "BRIDLINGTON SOUTH (08100)                   120\n",
       "CAYTON BAY (07500)                           55\n",
       "DANES DYKE - FLAMBOROUGH (07950)             75\n",
       "FILEY (07600)                               105\n",
       "FLAMBOROUGH SOUTH LANDING (07900)            95\n",
       "FRAISTHORPE (08300)                         105\n",
       "HORNSEA (08700)                             100\n",
       "NIDD AT THE LIDO - KNARESBOROUGH (08903)    105\n",
       "REIGHTON (07700)                            100\n",
       "ROBIN HOODS BAY (07200)                     120\n",
       "RUNSWICK BAY (06900)                        105\n",
       "SANDSEND (07000)                            115\n",
       "SCARBOROUGH NORTH BAY (07300)               100\n",
       "SCARBOROUGH SOUTH BAY (07400)               100\n",
       "WHARFE AT CROMWHEEL - ILKLEY (08901)        105\n",
       "WHARFE AT WILDERNESS CAR PARK (08904)       105\n",
       "WHITBY (07100)                              105\n",
       "WILSTHORPE (08200)                          110\n",
       "WITHERNSEA (08900)                          100\n",
       "dtype: int64"
      ]
     },
     "execution_count": 93,
     "metadata": {},
     "output_type": "execute_result"
    }
   ],
   "source": [
    "litter_related.groupby(['sample.samplingPoint.label']).size()"
   ]
  },
  {
   "cell_type": "code",
   "execution_count": 95,
   "metadata": {},
   "outputs": [],
   "source": [
    "withernsea = litter_related.loc[litter_related['sample.samplingPoint.label'] == 'WITHERNSEA (08900)']"
   ]
  },
  {
   "cell_type": "code",
   "execution_count": 99,
   "metadata": {},
   "outputs": [
    {
     "data": {
      "text/plain": [
       "determinand.label\n",
       "BWP - A.B.      20\n",
       "BWP - A.F.      20\n",
       "BWP - Ma        20\n",
       "BWP - O.L.      20\n",
       "SewageDebris    20\n",
       "dtype: int64"
      ]
     },
     "execution_count": 99,
     "metadata": {},
     "output_type": "execute_result"
    }
   ],
   "source": [
    "withernsea.groupby('determinand.label').size()"
   ]
  }
 ],
 "metadata": {
  "kernelspec": {
   "display_name": "openai",
   "language": "python",
   "name": "openai"
  },
  "language_info": {
   "codemirror_mode": {
    "name": "ipython",
    "version": 3
   },
   "file_extension": ".py",
   "mimetype": "text/x-python",
   "name": "python",
   "nbconvert_exporter": "python",
   "pygments_lexer": "ipython3",
   "version": "3.11.5"
  }
 },
 "nbformat": 4,
 "nbformat_minor": 2
}
